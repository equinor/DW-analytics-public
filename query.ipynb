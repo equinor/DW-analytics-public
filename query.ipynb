{
 "cells": [
  {
   "cell_type": "markdown",
   "id": "a4eec67b",
   "metadata": {},
   "source": [
    "# Description\n",
    "In this notebook data is queried from the kusto database and returned as a pandas dataframe.\n",
    "In this notebook we will:\n",
    "1. Setup a custo client using a connectionstring builder\n",
    "2. Query the custo database using the client.\n",
    "3. Represent result data as a pandas dataframe"
   ]
  },
  {
   "cell_type": "markdown",
   "id": "779a59aa",
   "metadata": {},
   "source": [
    "More examples and info at https://github.com/Azure/azure-kusto-python/blob/master/azure-kusto-data/tests/sample.py"
   ]
  },
  {
   "cell_type": "markdown",
   "id": "f60b5d83",
   "metadata": {},
   "source": [
    "### Imports"
   ]
  },
  {
   "cell_type": "code",
   "execution_count": null,
   "id": "fa70399d",
   "metadata": {},
   "outputs": [],
   "source": [
    "from azure.kusto.data import KustoClient, KustoConnectionStringBuilder\n",
    "from azure.kusto.data.exceptions import KustoServiceError\n",
    "from azure.kusto.data.helpers import dataframe_from_result_table\n",
    "import pandas as pd\n",
    "import requests"
   ]
  },
  {
   "cell_type": "markdown",
   "id": "1375f61c",
   "metadata": {},
   "source": [
    "Read config data"
   ]
  },
  {
   "cell_type": "code",
   "execution_count": null,
   "id": "d750230b",
   "metadata": {},
   "outputs": [],
   "source": [
    "kusto_cluster = \"https://dataexplorerda.northeurope.kusto.windows.net\"\n",
    "kusto_database = \"db-drilling-analytics\""
   ]
  },
  {
   "cell_type": "markdown",
   "id": "6066dc1a",
   "metadata": {},
   "source": [
    "Configure db-connection string for query and setup DB-Client"
   ]
  },
  {
   "cell_type": "code",
   "execution_count": null,
   "id": "bc31acb7",
   "metadata": {},
   "outputs": [],
   "source": [
    "kcsb = KustoConnectionStringBuilder.with_aad_device_authentication(\n",
    "    kusto_cluster)\n",
    "#kcsb.authority_id = aad_tenant_id\n",
    "kusto_client = KustoClient(kcsb)"
   ]
  },
  {
   "cell_type": "markdown",
   "id": "b71f4128",
   "metadata": {},
   "source": [
    "#### Run some query on the database"
   ]
  },
  {
   "cell_type": "code",
   "execution_count": null,
   "id": "01de9e87",
   "metadata": {},
   "outputs": [],
   "source": [
    "query = \"test_table | take 300\"\n",
    "\n",
    "response = kusto_client.execute(kusto_database, query)"
   ]
  },
  {
   "cell_type": "markdown",
   "id": "daeafa8a",
   "metadata": {},
   "source": [
    "#### View results as pandas dataframe"
   ]
  },
  {
   "cell_type": "code",
   "execution_count": null,
   "id": "8e80c843",
   "metadata": {},
   "outputs": [],
   "source": [
    "df = dataframe_from_result_table(response.primary_results[0])"
   ]
  },
  {
   "cell_type": "code",
   "execution_count": null,
   "id": "63e91ee1",
   "metadata": {},
   "outputs": [],
   "source": [
    "df"
   ]
  },
  {
   "cell_type": "code",
   "execution_count": null,
   "id": "af57c2df",
   "metadata": {},
   "outputs": [],
   "source": []
  }
 ],
 "metadata": {
  "kernelspec": {
   "display_name": "Python 3",
   "language": "python",
   "name": "python3"
  },
  "language_info": {
   "codemirror_mode": {
    "name": "ipython",
    "version": 3
   },
   "file_extension": ".py",
   "mimetype": "text/x-python",
   "name": "python",
   "nbconvert_exporter": "python",
   "pygments_lexer": "ipython3",
   "version": "3.8.8"
  }
 },
 "nbformat": 4,
 "nbformat_minor": 5
}
